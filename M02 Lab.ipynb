{
 "cells": [
  {
   "cell_type": "code",
   "execution_count": null,
   "id": "9a39516a",
   "metadata": {},
   "outputs": [],
   "source": [
    "# Owen Stackhouse \n",
    "\n",
    "# M02 Lab - Case Study: if...else and while\n",
    "\n",
    "# Is your program where you enter your last name your first name in your GPA then it will tell you if you make it into the\n",
    "# Dean's List the honor rolls list or neither. "
   ]
  },
  {
   "cell_type": "code",
   "execution_count": null,
   "id": "1a0135dd",
   "metadata": {},
   "outputs": [
    {
     "name": "stdout",
     "output_type": "stream",
     "text": [
      "Enter a last name or 'ZZZ' to Quit: stackhouse\n",
      "Enter a first name: owen\n",
      "Enter your GPA: 4.0\n",
      "owen stackhouse  you have made the Dean's List.\n",
      "\n",
      "Enter a last name or 'ZZZ' to Quit: Anderson \n",
      "Enter a first name: Emily \n",
      "Enter your GPA: 3.2\n",
      "sorry Emily  Anderson  you do not make the Honor Roll or the Dean's List\n",
      "\n",
      "Enter a last name or 'ZZZ' to Quit: Smith \n",
      "Enter a first name: Benjamin \n",
      "Enter your GPA: 2.7\n",
      "sorry Benjamin  Smith  you do not make the Honor Roll or the Dean's List\n",
      "\n",
      "Enter a last name or 'ZZZ' to Quit: Johnson \n",
      "Enter a first name: Sophia \n",
      "Enter your GPA: 3.9\n",
      "Sophia  Johnson   you have made the Dean's List.\n",
      "\n",
      "Enter a last name or 'ZZZ' to Quit: Miller \n",
      "Enter a first name: Ethan \n",
      "Enter your GPA: 3.25\n",
      "Ethan  Miller  you made the Honor Roll.\n",
      "\n"
     ]
    }
   ],
   "source": [
    "while True:\n",
    "    lastName = input(\"Enter a last name or 'ZZZ' to Quit: \")\n",
    "    \n",
    "    if lastName == \"ZZZ\":\n",
    "        \n",
    "        break\n",
    "    else:\n",
    "        firstName= input(\"Enter a first name: \")\n",
    "        GPA = float(input(\"Enter your GPA: \"))\n",
    "        \n",
    "        if GPA >= 3.5:\n",
    "            print(firstName, lastName, \" you have made the Dean's List.\")\n",
    "    \n",
    "        elif GPA >= 3.25:\n",
    "            print(firstName, lastName, \"you made the Honor Roll.\")\n",
    "            \n",
    "        else:\n",
    "            print(\"sorry\",firstName, lastName, \"you do not make the Honor Roll or the Dean's List\")\n",
    "           # this Adds a space between the results and the next set of questions.\n",
    "        print()"
   ]
  },
  {
   "cell_type": "code",
   "execution_count": null,
   "id": "1e65e514",
   "metadata": {},
   "outputs": [],
   "source": []
  }
 ],
 "metadata": {
  "kernelspec": {
   "display_name": "Python 3 (ipykernel)",
   "language": "python",
   "name": "python3"
  },
  "language_info": {
   "codemirror_mode": {
    "name": "ipython",
    "version": 3
   },
   "file_extension": ".py",
   "mimetype": "text/x-python",
   "name": "python",
   "nbconvert_exporter": "python",
   "pygments_lexer": "ipython3",
   "version": "3.11.5"
  }
 },
 "nbformat": 4,
 "nbformat_minor": 5
}
